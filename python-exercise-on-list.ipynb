{
 "cells": [
  {
   "cell_type": "code",
   "execution_count": 73,
   "metadata": {},
   "outputs": [],
   "source": [
    "# <----------- EXERCISE 3.1: NAMES ----------->\n",
    "Names : list = {\"khurram\", \"uzair\", \"abis\", \"amir\", \"zubair\" }\n"
   ]
  },
  {
   "cell_type": "code",
   "execution_count": 74,
   "metadata": {},
   "outputs": [
    {
     "name": "stdout",
     "output_type": "stream",
     "text": [
      "abis\n",
      "amir\n",
      "uzair\n",
      "khurram\n",
      "zubair\n"
     ]
    }
   ],
   "source": [
    "for i in Names:\n",
    "    print(i)"
   ]
  },
  {
   "cell_type": "code",
   "execution_count": 75,
   "metadata": {},
   "outputs": [
    {
     "name": "stdout",
     "output_type": "stream",
     "text": [
      "Hey, how are you abis\n",
      "Hey, how are you amir\n",
      "Hey, how are you uzair\n",
      "Hey, how are you khurram\n",
      "Hey, how are you zubair\n"
     ]
    }
   ],
   "source": [
    "# <---------- EXERCISE 3.2: GREETINGS ----------->\n",
    "for i in Names:\n",
    "    message : str = \"Hey, how are you\"\n",
    "    print(f\"{message} {i}\")"
   ]
  },
  {
   "cell_type": "code",
   "execution_count": 76,
   "metadata": {},
   "outputs": [
    {
     "name": "stdout",
     "output_type": "stream",
     "text": [
      " My dream car is Rolls_Royce \n",
      " but i also love the sound of Supra \n",
      " i would like to own a private_jet \n",
      " i also like to have a Heavy_Bike \n"
     ]
    }
   ],
   "source": [
    "# <----------- EXERCISE 3.3: YOUR OWN LIST ------------>\n",
    "dream_list : list =  [\"Rolls_Royce\", \"private_jet\", \"Heavy_Bike\", \"Supra\" ]\n",
    "print(f\" My dream car is {dream_list[0]} \\n but i also love the sound of {dream_list[3]} \\n i would like to own a {dream_list[1]} \\n i also like to have a {dream_list[2]} \")"
   ]
  },
  {
   "cell_type": "code",
   "execution_count": 77,
   "metadata": {},
   "outputs": [
    {
     "name": "stdout",
     "output_type": "stream",
     "text": [
      " I would like to invite you dear  uzair to my Birthday party\n",
      " I would like to invite you dear  zubair to my Birthday party\n",
      " I would like to invite you dear  umar to my Birthday party\n",
      " I would like to invite you dear  alyan to my Birthday party\n"
     ]
    }
   ],
   "source": [
    "# <------------ EXERCISE 3.4: GUEST LIST ----------->\n",
    "guest_list: list = [\"uzair\", \"zubair\", \"umar\", \"alyan\"]\n",
    "message: str = \"I would like to invite you dear \"\n",
    "for name in guest_list:\n",
    "    print(f\" {message} {name} to my Birthday party\")"
   ]
  },
  {
   "cell_type": "code",
   "execution_count": 78,
   "metadata": {},
   "outputs": [],
   "source": [
    "# <------------ EXERCISE 3.5: CHANGING GUEST LIST ------------->\n",
    "guest_list: list = [\"uzair\", \"zubair\", \"umar\", \"alyan\"]\n",
    "not_available: list = [\"umar\"]\n",
    "new_guest: list = [\"aqib\"]"
   ]
  },
  {
   "cell_type": "code",
   "execution_count": 79,
   "metadata": {},
   "outputs": [
    {
     "name": "stdout",
     "output_type": "stream",
     "text": [
      "You are invited uzair\n",
      "You are invited zubair\n",
      "You are invited alyan\n",
      "You are invited aqib\n"
     ]
    }
   ],
   "source": [
    "for i in guest_list.copy():\n",
    "    for x in not_available:\n",
    "        if x == i :\n",
    "            guest_list.remove(i)\n",
    "            guest_list.extend(new_guest)\n",
    "            invitation_message: str = \"You are invited\"\n",
    "            for names in guest_list:\n",
    "                print(f\"{invitation_message} {names}\")\n"
   ]
  },
  {
   "cell_type": "code",
   "execution_count": 80,
   "metadata": {},
   "outputs": [
    {
     "name": "stdout",
     "output_type": "stream",
     "text": [
      "You are invited amir\n",
      "You are invited uzair\n",
      "You are invited zubair\n",
      "You are invited numan\n",
      "You are invited alyan\n",
      "You are invited aqib\n",
      "You are invited zohaib\n"
     ]
    }
   ],
   "source": [
    "# <----------- EXERCISE 3.6: MORE GUESTS ------------>\n",
    "new_guest_no_1: str = \"amir\"\n",
    "new_guest_no_2: str = \"numan\"\n",
    "new_guest_no_3: str = \"zohaib\"\n",
    "guest_list.insert(0,new_guest_no_1)\n",
    "guest_list.insert(3,new_guest_no_2)\n",
    "guest_list.append(new_guest_no_3)\n",
    "for names in guest_list:\n",
    "    print(f\"{invitation_message} {names}\")"
   ]
  },
  {
   "cell_type": "code",
   "execution_count": 82,
   "metadata": {},
   "outputs": [
    {
     "name": "stdout",
     "output_type": "stream",
     "text": [
      "sorry we couldn't invite you zohaib\n",
      "sorry we couldn't invite you aqib\n",
      "sorry we couldn't invite you alyan\n",
      "sorry we couldn't invite you numan\n",
      "sorry we couldn't invite you zubair\n"
     ]
    }
   ],
   "source": [
    "# <----------- EXERCISE 3.7: SHRINKING GUEST LIST ------------>\n",
    "for x in range(len(guest_list)-2 ):\n",
    "    not_invited: str = guest_list.pop()\n",
    "    print(f\"sorry we couldn't invite you {not_invited}\")\n"
   ]
  },
  {
   "cell_type": "code",
   "execution_count": 83,
   "metadata": {},
   "outputs": [
    {
     "name": "stdout",
     "output_type": "stream",
     "text": [
      "you are still invited amir \n",
      "you are still invited uzair \n"
     ]
    }
   ],
   "source": [
    "for names in guest_list:\n",
    "    print(f\"you are still invited {names} \")"
   ]
  },
  {
   "cell_type": "code",
   "execution_count": 84,
   "metadata": {},
   "outputs": [],
   "source": [
    "del guest_list[:]\n"
   ]
  },
  {
   "cell_type": "code",
   "execution_count": 85,
   "metadata": {},
   "outputs": [
    {
     "data": {
      "text/plain": [
       "[]"
      ]
     },
     "execution_count": 85,
     "metadata": {},
     "output_type": "execute_result"
    }
   ],
   "source": [
    "guest_list"
   ]
  },
  {
   "cell_type": "code",
   "execution_count": 86,
   "metadata": {},
   "outputs": [],
   "source": [
    "# <------------ EXERCISE 3.8: SEEING THE WORLD ---------->\n",
    "fvrt_places: list = [\"uk\", \"usa\", \"dubai\", \"spain\", \"turkey\"]\n"
   ]
  },
  {
   "cell_type": "code",
   "execution_count": 87,
   "metadata": {},
   "outputs": [
    {
     "name": "stdout",
     "output_type": "stream",
     "text": [
      "This is the sorted list without changing the original one ['dubai', 'spain', 'turkey', 'uk', 'usa']\n"
     ]
    },
    {
     "data": {
      "text/plain": [
       "\"This is original one ['uk', 'usa', 'dubai', 'spain', 'turkey']\""
      ]
     },
     "execution_count": 87,
     "metadata": {},
     "output_type": "execute_result"
    }
   ],
   "source": [
    "print(f\"This is the sorted list without changing the original one {sorted(fvrt_places)}\")\n",
    "f\"This is original one {fvrt_places}\""
   ]
  },
  {
   "cell_type": "code",
   "execution_count": 88,
   "metadata": {},
   "outputs": [
    {
     "name": "stdout",
     "output_type": "stream",
     "text": [
      " This is the sorted reverse list without changing the original one ['usa', 'uk', 'turkey', 'spain', 'dubai']\n"
     ]
    },
    {
     "data": {
      "text/plain": [
       "\"This is original one ['uk', 'usa', 'dubai', 'spain', 'turkey']\""
      ]
     },
     "execution_count": 88,
     "metadata": {},
     "output_type": "execute_result"
    }
   ],
   "source": [
    "print(f\" This is the sorted reverse list without changing the original one {sorted(fvrt_places, reverse=True)}\")\n",
    "f\"This is original one {fvrt_places}\""
   ]
  },
  {
   "cell_type": "code",
   "execution_count": 89,
   "metadata": {},
   "outputs": [
    {
     "name": "stdout",
     "output_type": "stream",
     "text": [
      "This is reversed list ['turkey', 'spain', 'dubai', 'usa', 'uk']\n"
     ]
    }
   ],
   "source": [
    "fvrt_places.reverse()\n",
    "print(f\"This is reversed list {fvrt_places}\")"
   ]
  },
  {
   "cell_type": "code",
   "execution_count": 90,
   "metadata": {},
   "outputs": [
    {
     "data": {
      "text/plain": [
       "\"This is original one ['uk', 'usa', 'dubai', 'spain', 'turkey']\""
      ]
     },
     "execution_count": 90,
     "metadata": {},
     "output_type": "execute_result"
    }
   ],
   "source": [
    "fvrt_places.reverse()\n",
    "f\"This is original one {fvrt_places}\""
   ]
  },
  {
   "cell_type": "code",
   "execution_count": 91,
   "metadata": {},
   "outputs": [
    {
     "name": "stdout",
     "output_type": "stream",
     "text": [
      "This is the sorted list ['dubai', 'spain', 'turkey', 'uk', 'usa']\n"
     ]
    }
   ],
   "source": [
    "fvrt_places.sort()\n",
    "print(f\"This is the sort list {fvrt_places}\")"
   ]
  },
  {
   "cell_type": "code",
   "execution_count": 92,
   "metadata": {},
   "outputs": [
    {
     "name": "stdout",
     "output_type": "stream",
     "text": [
      "This is sort reversed list ['usa', 'uk', 'turkey', 'spain', 'dubai']\n"
     ]
    }
   ],
   "source": [
    "fvrt_places.sort(reverse=True)\n",
    "print(f\"This is sort reversed list {fvrt_places}\")\n"
   ]
  },
  {
   "cell_type": "code",
   "execution_count": 3,
   "metadata": {},
   "outputs": [
    {
     "name": "stdout",
     "output_type": "stream",
     "text": [
      "After append: ['laptop', 'mobile', 'camera', 'telesope', 'lamp', 'iron']\n",
      "After extend: ['laptop', 'mobile', 'camera', 'telesope', 'lamp', 'iron', 'machine', 'dryer']\n",
      "After insert: ['laptop', 'mobile', 'airpods', 'camera', 'telesope', 'lamp', 'iron', 'machine', 'dryer']\n",
      "After remove: ['laptop', 'mobile', 'airpods', 'camera', 'telesope', 'iron', 'machine', 'dryer']\n",
      "After pop: ['laptop', 'mobile', 'airpods', 'camera', 'telesope', 'iron', 'machine']\n",
      "Popped items: dryer\n",
      "After clear: []\n"
     ]
    }
   ],
   "source": [
    "# <----------- EXERCISE 3.9: EVERY FUNCTION ------------->\n",
    "items: list = [\"laptop\", \"mobile\", \"camera\", \"telesope\", \"lamp\"]\n",
    "\n",
    "# append()\n",
    "items.append(\"iron\")\n",
    "print(\"After append:\", items)\n",
    "\n",
    "# extend()\n",
    "items.extend([\"machine\", \"dryer\"])\n",
    "print(\"After extend:\", items)\n",
    "\n",
    "# insert()\n",
    "items.insert(2, \"airpods\")\n",
    "print(\"After insert:\", items)\n",
    "\n",
    "# remove()\n",
    "items.remove(\"lamp\")\n",
    "print(\"After remove:\", items)\n",
    "\n",
    "# pop()\n",
    "popped_items = items.pop()\n",
    "print(\"After pop:\", items)\n",
    "print(\"Popped items:\", popped_items)\n",
    "\n",
    "# clear()\n",
    "items.clear()\n",
    "print(\"After clear:\", items)"
   ]
  },
  {
   "cell_type": "code",
   "execution_count": 4,
   "metadata": {},
   "outputs": [
    {
     "name": "stdout",
     "output_type": "stream",
     "text": [
      "Index of 'laptop' 0\n",
      "Count of 'camera' 1\n",
      "After sort: ['camera', 'lamp', 'laptop', 'mobile', 'telesope']\n",
      "After reverse: ['telesope', 'mobile', 'laptop', 'lamp', 'camera']\n",
      "Copy of items: ['telesope', 'mobile', 'laptop', 'lamp', 'camera']\n"
     ]
    }
   ],
   "source": [
    "items: list = [\"laptop\", \"mobile\", \"camera\", \"telesope\", \"lamp\"]\n",
    "\n",
    "# index()\n",
    "index_of_laptop = items.index(\"laptop\")\n",
    "print(\"Index of 'laptop'\", index_of_laptop)\n",
    "\n",
    "# count()\n",
    "count_of_camera = items.count(\"camera\")\n",
    "print(\"Count of 'camera'\", count_of_camera)\n",
    "\n",
    "# sort()\n",
    "items.sort()\n",
    "print(\"After sort:\", items)\n",
    "\n",
    "# reverse()\n",
    "items.reverse()\n",
    "print(\"After reverse:\", items)\n",
    "\n",
    "# copy()\n",
    "items_copy = items.copy()\n",
    "print(\"Copy of items:\", items_copy)\n",
    "\n"
   ]
  },
  {
   "cell_type": "code",
   "execution_count": 5,
   "metadata": {},
   "outputs": [
    {
     "name": "stdout",
     "output_type": "stream",
     "text": [
      "telesope\n"
     ]
    }
   ],
   "source": [
    "# <------- EXERCISE 3.10: INTENTIONAL ERROR ---------->\n",
    "items: list = [\"laptop\", \"mobile\", \"camera\", \"telesope\", \"lamp\"]\n",
    "#print(items[10])  # This will cause an index error\n",
    "print(items[3])  # this will print \"telescope\""
   ]
  },
  {
   "cell_type": "code",
   "execution_count": null,
   "metadata": {},
   "outputs": [],
   "source": []
  }
 ],
 "metadata": {
  "kernelspec": {
   "display_name": "Python 3",
   "language": "python",
   "name": "python3"
  },
  "language_info": {
   "codemirror_mode": {
    "name": "ipython",
    "version": 3
   },
   "file_extension": ".py",
   "mimetype": "text/x-python",
   "name": "python",
   "nbconvert_exporter": "python",
   "pygments_lexer": "ipython3",
   "version": "3.12.4"
  }
 },
 "nbformat": 4,
 "nbformat_minor": 2
}
